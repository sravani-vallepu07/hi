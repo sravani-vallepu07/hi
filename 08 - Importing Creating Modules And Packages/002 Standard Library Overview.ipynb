{
 "cells": [
  {
   "cell_type": "markdown",
   "id": "3ed6ee69",
   "metadata": {},
   "source": [
    "python standard library is a vast collection of modules and packages that come\n",
    "bundled with python ,providing a wide range of functionalities out of the box.\n",
    "Here's an overview of some of the most commonly used modules and packages in the python standard library:\n"
   ]
  },
  {
   "cell_type": "code",
   "execution_count": 32,
   "id": "4a1fb978",
   "metadata": {},
   "outputs": [
    {
     "name": "stdout",
     "output_type": "stream",
     "text": [
      "array('l', [1, 2, 3, 4])\n"
     ]
    }
   ],
   "source": [
    "import array\n",
    "arr=array.array('l',[1,2,3,4])\n",
    "print(arr)"
   ]
  },
  {
   "cell_type": "code",
   "execution_count": 33,
   "id": "e28f828a",
   "metadata": {},
   "outputs": [
    {
     "name": "stdout",
     "output_type": "stream",
     "text": [
      "4.0\n",
      "3.141592653589793\n"
     ]
    }
   ],
   "source": [
    "import math\n",
    "print(math.sqrt(16))\n",
    "print(math.pi)\n"
   ]
  },
  {
   "cell_type": "code",
   "execution_count": 34,
   "id": "32545e12",
   "metadata": {},
   "outputs": [
    {
     "name": "stdout",
     "output_type": "stream",
     "text": [
      "6\n",
      "banana\n"
     ]
    }
   ],
   "source": [
    "import random as rand\n",
    "print(rand.randint(1,10))\n",
    "print(rand.choice([\"apple\",\"banana\",\"cherru\"]))"
   ]
  },
  {
   "cell_type": "code",
   "execution_count": 35,
   "id": "338c083c",
   "metadata": {},
   "outputs": [
    {
     "name": "stdout",
     "output_type": "stream",
     "text": [
      "c:\\Downloads\\krish naiks ml\\udemy\\08 - Importing Creating Modules And Packages\n"
     ]
    }
   ],
   "source": [
    "# file and directory access\n",
    "import os\n",
    "print(os.getcwd())"
   ]
  },
  {
   "cell_type": "code",
   "execution_count": 36,
   "id": "f8132a47",
   "metadata": {},
   "outputs": [],
   "source": [
    "os.mkdir(\"test_dir\")"
   ]
  },
  {
   "cell_type": "code",
   "execution_count": 37,
   "id": "52757d71",
   "metadata": {},
   "outputs": [
    {
     "data": {
      "text/plain": [
       "'destination.txt'"
      ]
     },
     "execution_count": 37,
     "metadata": {},
     "output_type": "execute_result"
    }
   ],
   "source": [
    "# high-level file operations and file collections\n",
    "import shutil\n",
    "shutil.copyfile(\"source.txt\", \"destination.txt\")"
   ]
  },
  {
   "cell_type": "code",
   "execution_count": 42,
   "id": "60c2dd05",
   "metadata": {},
   "outputs": [
    {
     "name": "stdout",
     "output_type": "stream",
     "text": [
      "{\"name\": \"krish\", \"age\": 25}\n",
      "<class 'str'>\n"
     ]
    }
   ],
   "source": [
    "# data serialization\n",
    "import json\n",
    "data={'name':'krish','age':25}\n",
    "json_str=json.dumps(data)\n",
    "print(json_str)\n",
    "print(type(json_str))\n",
    "\n"
   ]
  },
  {
   "cell_type": "code",
   "execution_count": 43,
   "id": "caddceed",
   "metadata": {},
   "outputs": [
    {
     "name": "stdout",
     "output_type": "stream",
     "text": [
      "{'name': 'krish', 'age': 25}\n",
      "<class 'dict'>\n"
     ]
    }
   ],
   "source": [
    "past_data=json.loads(json_str)\n",
    "print(past_data)\n",
    "print(type(past_data))"
   ]
  },
  {
   "cell_type": "code",
   "execution_count": 44,
   "id": "5301611e",
   "metadata": {},
   "outputs": [
    {
     "name": "stdout",
     "output_type": "stream",
     "text": [
      "['name', 'age']\n",
      "['krish', '32']\n"
     ]
    }
   ],
   "source": [
    "import csv\n",
    "with open('example.csv',mode='w',newline='') as file:\n",
    "    writer=csv.writer(file)\n",
    "    writer.writerow(['name','age'])\n",
    "    writer.writerow(['krish',32])\n",
    "with open('example.csv',mode='r')as file:\n",
    "    reader=csv.reader(file)\n",
    "    for row in reader:\n",
    "        print(row)\n"
   ]
  },
  {
   "cell_type": "code",
   "execution_count": 53,
   "id": "43fa270f",
   "metadata": {},
   "outputs": [
    {
     "name": "stdout",
     "output_type": "stream",
     "text": [
      "2025-05-09 19:16:37.953841\n",
      "2025-05-08 19:16:37.953841\n"
     ]
    }
   ],
   "source": [
    "# datetime\n",
    "from datetime import datetime,timedelta\n",
    "now=datetime.now()\n",
    "print(now)\n",
    "yesterday=now-timedelta(days=1)\n",
    "print(yesterday)"
   ]
  },
  {
   "cell_type": "code",
   "execution_count": 58,
   "id": "ce1d665a",
   "metadata": {},
   "outputs": [
    {
     "name": "stdout",
     "output_type": "stream",
     "text": [
      "1746798498.697469\n",
      "1746798500.6999154\n"
     ]
    }
   ],
   "source": [
    "# time\n",
    "import time\n",
    "print(time.time())\n",
    "time.sleep(2)\n",
    "print(time.time())"
   ]
  },
  {
   "cell_type": "code",
   "execution_count": 63,
   "id": "399b87e5",
   "metadata": {},
   "outputs": [
    {
     "name": "stdout",
     "output_type": "stream",
     "text": [
      "<re.Match object; span=(6, 9), match='are'>\n"
     ]
    }
   ],
   "source": [
    "# regular expression\n",
    "import re\n",
    "pattern='are'\n",
    "text='there are 123 apples'\n",
    "match=re.search(pattern,text)\n",
    "print(match)"
   ]
  },
  {
   "cell_type": "markdown",
   "id": "806b2783",
   "metadata": {},
   "source": [
    "# conclusion\n",
    "python's  standard library is extensive and provides tools for almost any task you can think of,from file handling to web services,from data seialization to concurrent execution.familirzing yourself with the modules and packages available in the standard library can significantly enhance your ability to write enhance and effective python programs"
   ]
  }
 ],
 "metadata": {
  "kernelspec": {
   "display_name": "Python 3",
   "language": "python",
   "name": "python3"
  },
  "language_info": {
   "codemirror_mode": {
    "name": "ipython",
    "version": 3
   },
   "file_extension": ".py",
   "mimetype": "text/x-python",
   "name": "python",
   "nbconvert_exporter": "python",
   "pygments_lexer": "ipython3",
   "version": "3.11.9"
  }
 },
 "nbformat": 4,
 "nbformat_minor": 5
}
