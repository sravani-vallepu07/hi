{
 "cells": [
  {
   "cell_type": "markdown",
   "id": "a03f7f0d",
   "metadata": {},
   "source": [
    "understanding Exceptions\n"
   ]
  },
  {
   "cell_type": "markdown",
   "id": "eee6334f",
   "metadata": {},
   "source": []
  },
  {
   "cell_type": "markdown",
   "id": "04f90a83",
   "metadata": {},
   "source": [
    "exception handling in python allows you to handle errors gracefully and take corrective actions without stopping the exection of the program.this lesson will cover the basics of exceptions\n",
    ",including how to use try,exccept,else,and finally blocks "
   ]
  },
  {
   "cell_type": "markdown",
   "id": "c4ff13b2",
   "metadata": {},
   "source": [
    "what are exceptions ?"
   ]
  },
  {
   "cell_type": "markdown",
   "id": "c7669785",
   "metadata": {},
   "source": [
    "exceptions are events that disrupt the normal flow of a program.they occur when an error is encountered during the program execution.common exceptions include:\n",
    "\n",
    "\n",
    "\n",
    "*ZeroDivisionError:dividing by zero\n",
    "\n",
    "\n",
    "\n",
    "*FileNotError:file not found\n",
    "\n",
    "\n",
    "\n",
    "*ValueError:invalid value\n",
    "\n",
    "\n",
    "\n",
    "*TypeError:invalid type\n",
    "\n",
    "\n"
   ]
  },
  {
   "cell_type": "code",
   "execution_count": 5,
   "id": "150e1047",
   "metadata": {},
   "outputs": [
    {
     "name": "stdout",
     "output_type": "stream",
     "text": [
      "the varible has not been assigned\n"
     ]
    }
   ],
   "source": [
    "###except try,except block\n",
    "try:\n",
    "    a=b\n",
    "except :\n",
    "    print(\"the varible has not been assigned\")"
   ]
  },
  {
   "cell_type": "code",
   "execution_count": 6,
   "id": "f8ac61be",
   "metadata": {},
   "outputs": [
    {
     "ename": "NameError",
     "evalue": "name 'b' is not defined",
     "output_type": "error",
     "traceback": [
      "\u001b[31m---------------------------------------------------------------------------\u001b[39m",
      "\u001b[31mNameError\u001b[39m                                 Traceback (most recent call last)",
      "\u001b[36mCell\u001b[39m\u001b[36m \u001b[39m\u001b[32mIn[6]\u001b[39m\u001b[32m, line 1\u001b[39m\n\u001b[32m----> \u001b[39m\u001b[32m1\u001b[39m a=\u001b[43mb\u001b[49m\n",
      "\u001b[31mNameError\u001b[39m: name 'b' is not defined"
     ]
    }
   ],
   "source": [
    "a=b"
   ]
  },
  {
   "cell_type": "code",
   "execution_count": 7,
   "id": "6af4450b",
   "metadata": {},
   "outputs": [
    {
     "name": "stdout",
     "output_type": "stream",
     "text": [
      "name 'b' is not defined\n"
     ]
    }
   ],
   "source": [
    "try:\n",
    "    a=b\n",
    "except NameError as ex:\n",
    "    print(ex)"
   ]
  },
  {
   "cell_type": "code",
   "execution_count": 8,
   "id": "354f9dde",
   "metadata": {},
   "outputs": [
    {
     "ename": "ZeroDivisionError",
     "evalue": "division by zero",
     "output_type": "error",
     "traceback": [
      "\u001b[31m---------------------------------------------------------------------------\u001b[39m",
      "\u001b[31mZeroDivisionError\u001b[39m                         Traceback (most recent call last)",
      "\u001b[36mCell\u001b[39m\u001b[36m \u001b[39m\u001b[32mIn[8]\u001b[39m\u001b[32m, line 1\u001b[39m\n\u001b[32m----> \u001b[39m\u001b[32m1\u001b[39m result=\u001b[32;43m1\u001b[39;49m\u001b[43m/\u001b[49m\u001b[32;43m0\u001b[39;49m\n",
      "\u001b[31mZeroDivisionError\u001b[39m: division by zero"
     ]
    }
   ],
   "source": [
    "result=1/0"
   ]
  },
  {
   "cell_type": "code",
   "execution_count": 9,
   "id": "61624dae",
   "metadata": {},
   "outputs": [
    {
     "name": "stdout",
     "output_type": "stream",
     "text": [
      "division by zero\n",
      "pls enter denominator greter than zero\n"
     ]
    }
   ],
   "source": [
    "try:\n",
    "    result=1/0\n",
    "except ZeroDivisionError as ex:\n",
    "    print(ex)\n",
    "    print(\"pls enter denominator greter than zero\")"
   ]
  },
  {
   "cell_type": "code",
   "execution_count": 11,
   "id": "16b30c5c",
   "metadata": {},
   "outputs": [
    {
     "ename": "NameError",
     "evalue": "name 'b' is not defined",
     "output_type": "error",
     "traceback": [
      "\u001b[31m---------------------------------------------------------------------------\u001b[39m",
      "\u001b[31mNameError\u001b[39m                                 Traceback (most recent call last)",
      "\u001b[36mCell\u001b[39m\u001b[36m \u001b[39m\u001b[32mIn[11]\u001b[39m\u001b[32m, line 3\u001b[39m\n\u001b[32m      1\u001b[39m \u001b[38;5;28;01mtry\u001b[39;00m:\n\u001b[32m      2\u001b[39m     res=\u001b[32m1\u001b[39m/\u001b[32m2\u001b[39m\n\u001b[32m----> \u001b[39m\u001b[32m3\u001b[39m     a=\u001b[43mb\u001b[49m\n\u001b[32m      4\u001b[39m \u001b[38;5;28;01mexcept\u001b[39;00m \u001b[38;5;167;01mZeroDivisionError\u001b[39;00m \u001b[38;5;28;01mas\u001b[39;00m ex:\n\u001b[32m      5\u001b[39m     \u001b[38;5;28mprint\u001b[39m(\u001b[33m\"\u001b[39m\u001b[33msome error came\u001b[39m\u001b[33m\"\u001b[39m)\n",
      "\u001b[31mNameError\u001b[39m: name 'b' is not defined"
     ]
    }
   ],
   "source": [
    "try:\n",
    "    res=1/2\n",
    "    a=b\n",
    "except ZeroDivisionError as ex:\n",
    "    print(\"some error came\")"
   ]
  },
  {
   "cell_type": "code",
   "execution_count": 15,
   "id": "a59832d0",
   "metadata": {},
   "outputs": [
    {
     "name": "stdout",
     "output_type": "stream",
     "text": [
      "name 'b' is not defined\n",
      "main exception got caught here\n"
     ]
    }
   ],
   "source": [
    "try:\n",
    "    res=1/3\n",
    "    a=b\n",
    "except ZeroDivisionError as ex:\n",
    "    print(\"some error came\")\n",
    "except Exception as ex1:\n",
    "    print(ex1)\n",
    "    print(\"main exception got caught here\")"
   ]
  },
  {
   "cell_type": "code",
   "execution_count": 22,
   "id": "46c47f75",
   "metadata": {},
   "outputs": [],
   "source": [
    "try:\n",
    "    num=int(input(\"enter a number\"))\n",
    "    result=10/num\n",
    "except ValueError:\n",
    "    print(\"this is not a valid number\")\n",
    "except ZeroDivisionError:\n",
    "    print(\"pls enter denominator greter than zero\")\n",
    "except Exception as ex1:\n",
    "    print(ex1)"
   ]
  },
  {
   "cell_type": "code",
   "execution_count": 25,
   "id": "07a8a45d",
   "metadata": {},
   "outputs": [
    {
     "name": "stdout",
     "output_type": "stream",
     "text": [
      "you cant divide by zero\n"
     ]
    }
   ],
   "source": [
    "##try,except,else block\n",
    "try:\n",
    "    num=int(input(\"enter a number\"))\n",
    "    res=10/num\n",
    "except ValueError:\n",
    "    print(\"thats not a valid number\")\n",
    "except ZeroDivisionError:\n",
    "    print(\"you cant divide by zero\")\n",
    "except Exception as ex1:\n",
    "    print(ex1)\n",
    "else:\n",
    "    print(f\"the result is {res}\")"
   ]
  },
  {
   "cell_type": "code",
   "execution_count": 26,
   "id": "3f95e042",
   "metadata": {},
   "outputs": [
    {
     "name": "stdout",
     "output_type": "stream",
     "text": [
      "you cant divide by zero!\n",
      "excection comple1.4285714285714286\n"
     ]
    }
   ],
   "source": [
    "##try,except,else,finally\n",
    "try:\n",
    "    num=int(input(\"enter a number\"))\n",
    "    res=10/num\n",
    "except ValueError:\n",
    "    print(\"thats not a valid number\")\n",
    "except ZeroDivisionError:\n",
    "    print(\"you cant divide by zero!\")  \n",
    "except Exception as ex1:\n",
    "    print(ex1)\n",
    "else:\n",
    "    print(f\"the result is {res}\")\n",
    "finally:\n",
    "    print(f\"excection comple{result}\")"
   ]
  },
  {
   "cell_type": "code",
   "execution_count": 35,
   "id": "ec73b361",
   "metadata": {},
   "outputs": [
    {
     "name": "stdout",
     "output_type": "stream",
     "text": [
      "\n",
      "<built-in method close of _io.TextIOWrapper object at 0x0000020B6C235FF0>\n"
     ]
    }
   ],
   "source": [
    "###file handling and exception handling\n",
    "try:\n",
    "    file=open(\"example.txt\",'r')\n",
    "    content=file.read()\n",
    "    print(content)\n",
    "except FileNotFoundError:\n",
    "    print(\"file does not exists\")\n",
    "except Exception as ex:\n",
    "    print(ex)\n",
    "finally:\n",
    "    if 'file' in locals() or not file.closed():\n",
    "        file.close()\n",
    "        print(file.close)"
   ]
  },
  {
   "cell_type": "code",
   "execution_count": 33,
   "id": "cb52be62",
   "metadata": {},
   "outputs": [
    {
     "name": "stdout",
     "output_type": "stream",
     "text": [
      "True\n"
     ]
    }
   ],
   "source": [
    "if 'file' in locals():\n",
    "    print(True)"
   ]
  }
 ],
 "metadata": {
  "kernelspec": {
   "display_name": "Python 3",
   "language": "python",
   "name": "python3"
  },
  "language_info": {
   "codemirror_mode": {
    "name": "ipython",
    "version": 3
   },
   "file_extension": ".py",
   "mimetype": "text/x-python",
   "name": "python",
   "nbconvert_exporter": "python",
   "pygments_lexer": "ipython3",
   "version": "3.11.9"
  }
 },
 "nbformat": 4,
 "nbformat_minor": 5
}
