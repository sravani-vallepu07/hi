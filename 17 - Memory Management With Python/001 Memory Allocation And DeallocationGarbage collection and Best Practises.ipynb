{
 "cells": [
  {
   "cell_type": "markdown",
   "id": "44391bb2",
   "metadata": {},
   "source": [
    "python memory management"
   ]
  },
  {
   "cell_type": "markdown",
   "id": "9cb6e9d1",
   "metadata": {},
   "source": [
    "memory management in python invovles a combination of automatic garbage collection.reference counting and various internal optimizations to effeciently manage memory allocations and deallocations.understanding these mechanisms can help developers write more efficient and robust applications.\n",
    "\n",
    "\n",
    "\n",
    "1.key concepts in python memory managements\n",
    "\n",
    "2.memory alocations and dealloctions\n",
    "\n",
    "3.reference counting\n",
    "\n",
    "4.garbage collection\n",
    "\n",
    "5.the gc module\n",
    "\n",
    "6.memory management best practices"
   ]
  },
  {
   "cell_type": "markdown",
   "id": "3371cd39",
   "metadata": {},
   "source": [
    "###reference counting\n",
    "   reference couniting is the primary meathod python uses to manage memory.each object in the python maintains count of references pointing to it.when the reference count drops to zero,the memory occupied by the object is deallocated.\n",
    "\n",
    "\n"
   ]
  },
  {
   "cell_type": "code",
   "execution_count": 4,
   "id": "6e679e0d",
   "metadata": {},
   "outputs": [
    {
     "name": "stdout",
     "output_type": "stream",
     "text": [
      "2\n"
     ]
    }
   ],
   "source": [
    "import sys\n",
    "\n",
    "a=[]\n",
    "##2 (one reference from 'a' and one from getrefcount())\n",
    "print(sys.getrefcount(a))"
   ]
  },
  {
   "cell_type": "code",
   "execution_count": 5,
   "id": "f53ccbc4",
   "metadata": {},
   "outputs": [
    {
     "name": "stdout",
     "output_type": "stream",
     "text": [
      "3\n"
     ]
    }
   ],
   "source": [
    "b=a\n",
    "print(sys.getrefcount(b))"
   ]
  },
  {
   "cell_type": "code",
   "execution_count": 6,
   "id": "b5db6483",
   "metadata": {},
   "outputs": [
    {
     "name": "stdout",
     "output_type": "stream",
     "text": [
      "2\n"
     ]
    }
   ],
   "source": [
    "del b\n",
    "print(sys.getrefcount(a))"
   ]
  },
  {
   "cell_type": "markdown",
   "id": "8776f413",
   "metadata": {},
   "source": [
    "##garbage collection\n",
    "\n",
    "\n",
    " python include a cyclic garbage collector to handle reference cycles.reference cycles occur when objects reference eachother,preventing their reference counts from reaching zero\n"
   ]
  },
  {
   "cell_type": "code",
   "execution_count": 7,
   "id": "aae3c80b",
   "metadata": {},
   "outputs": [],
   "source": [
    "import gc\n",
    "##enable garbage collection\n",
    "gc.enable()"
   ]
  },
  {
   "cell_type": "code",
   "execution_count": 8,
   "id": "98f228fa",
   "metadata": {},
   "outputs": [],
   "source": [
    "gc.disable()"
   ]
  },
  {
   "cell_type": "code",
   "execution_count": 9,
   "id": "e1e01b5c",
   "metadata": {},
   "outputs": [
    {
     "data": {
      "text/plain": [
       "1664"
      ]
     },
     "execution_count": 9,
     "metadata": {},
     "output_type": "execute_result"
    }
   ],
   "source": [
    "gc.collect()"
   ]
  },
  {
   "cell_type": "code",
   "execution_count": 11,
   "id": "57c023bf",
   "metadata": {},
   "outputs": [
    {
     "name": "stdout",
     "output_type": "stream",
     "text": [
      "[{'collections': 249, 'collected': 1683, 'uncollectable': 0}, {'collections': 22, 'collected': 545, 'uncollectable': 0}, {'collections': 3, 'collected': 2039, 'uncollectable': 0}]\n"
     ]
    }
   ],
   "source": [
    "##get garbage colllection stats\n",
    "print(gc.get_stats())"
   ]
  },
  {
   "cell_type": "code",
   "execution_count": 12,
   "id": "b1c20f5a",
   "metadata": {},
   "outputs": [
    {
     "name": "stdout",
     "output_type": "stream",
     "text": [
      "[]\n"
     ]
    }
   ],
   "source": [
    "##get unreachable objects\n",
    "print(gc.garbage)"
   ]
  },
  {
   "cell_type": "markdown",
   "id": "9f8c0f1e",
   "metadata": {},
   "source": [
    "MEMORY MANAGEMENT BEST PRACTICES\n",
    "\n",
    "1.use local variable:local variable have shorter life span and are freed sooner than global variable\n",
    "\n",
    "2.avoid circular references:circular references can lead to memory leaks if not properly managed.\n",
    "\n",
    "3.use generators:generators produce items one at a time and only keeps memory at a time,making them memory efficient.\n",
    "\n",
    "4.explicitly delete objects:use the del statements to delete variable and objects explicitly.\n",
    "\n",
    "5.profile memory usage:use memory profiling tools like tracemalloc  and memory_profiler to identify memory leaks and optimize memory usage"
   ]
  },
  {
   "cell_type": "code",
   "execution_count": 22,
   "id": "77c08af4",
   "metadata": {},
   "outputs": [
    {
     "name": "stdout",
     "output_type": "stream",
     "text": [
      "objectobj1 created\n",
      "objectobj2 created\n",
      "object obj1 deleted\n",
      "object obj2 deleted\n"
     ]
    },
    {
     "data": {
      "text/plain": [
       "9"
      ]
     },
     "execution_count": 22,
     "metadata": {},
     "output_type": "execute_result"
    }
   ],
   "source": [
    "import gc\n",
    "\n",
    "\n",
    "class myobject:\n",
    "    def __init__(self,name):\n",
    "        self.name=name\n",
    "        print(f\"object{self.name} created\")\n",
    "\n",
    "\n",
    "    def __del__(self):\n",
    "        print(f\"object {self.name} deleted\")\n",
    "\n",
    "# create  cicular reference\n",
    "obj1=myobject(\"obj1\")\n",
    "obj2=myobject(\"obj2\")\n",
    "obj1.ref=obj2\n",
    "obj2.ref=obj1\n",
    "\n",
    "del obj1\n",
    "del obj2\n",
    "\n",
    "\n",
    "# manually trigger the garbage collection\n",
    "gc.collect()"
   ]
  },
  {
   "cell_type": "code",
   "execution_count": null,
   "id": "34c6f398",
   "metadata": {},
   "outputs": [
    {
     "name": "stdout",
     "output_type": "stream",
     "text": [
      "0\n",
      "1\n",
      "2\n",
      "3\n",
      "4\n",
      "5\n",
      "6\n",
      "7\n",
      "8\n",
      "9\n",
      "10\n",
      "11\n"
     ]
    }
   ],
   "source": [
    "###generators for memory efficiency\n",
    "#### generators allows you to produce items one at a time,using memory\n",
    "#### efficiently by only keeping one item\n",
    "\n",
    "\n",
    "def generate_numbers(n):\n",
    "    for i in range(n):\n",
    "        yield i\n",
    "\n",
    "##using the generator\n",
    "for num in generate_numbers(100000):\n",
    "    print(num)\n",
    "    if num>10:\n",
    "        break"
   ]
  },
  {
   "cell_type": "code",
   "execution_count": 24,
   "id": "7924ceba",
   "metadata": {},
   "outputs": [],
   "source": [
    "###profiling memory usage with tracemalloc\n",
    "import tracemalloc\n",
    "\n",
    "\n",
    "def create_list():\n",
    "    return [i for i in range(10000)]\n",
    "\n",
    "def main():\n",
    "    tracemalloc.start()\n",
    "    create_list()\n",
    "    snapshot=tracemalloc.take_snapshot()\n",
    "    top_stats=snapshot.statistics('lineno')\n",
    "    print(\"[top 10]\")\n",
    "    for stat in top_stats[::]:\n",
    "        print(stat)"
   ]
  },
  {
   "cell_type": "code",
   "execution_count": 25,
   "id": "16831916",
   "metadata": {},
   "outputs": [
    {
     "name": "stdout",
     "output_type": "stream",
     "text": [
      "[top 10]\n"
     ]
    }
   ],
   "source": [
    "main()"
   ]
  },
  {
   "cell_type": "code",
   "execution_count": null,
   "id": "09a73848",
   "metadata": {},
   "outputs": [],
   "source": []
  }
 ],
 "metadata": {
  "kernelspec": {
   "display_name": "Python 3",
   "language": "python",
   "name": "python3"
  },
  "language_info": {
   "codemirror_mode": {
    "name": "ipython",
    "version": 3
   },
   "file_extension": ".py",
   "mimetype": "text/x-python",
   "name": "python",
   "nbconvert_exporter": "python",
   "pygments_lexer": "ipython3",
   "version": "3.11.9"
  }
 },
 "nbformat": 4,
 "nbformat_minor": 5
}
