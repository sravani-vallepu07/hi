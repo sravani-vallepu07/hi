{
 "cells": [
  {
   "cell_type": "markdown",
   "id": "4146e8a6",
   "metadata": {},
   "source": [
    "# INTRODUCTION TO STREAMLIT"
   ]
  },
  {
   "cell_type": "markdown",
   "id": "44b95f1f",
   "metadata": {
    "vscode": {
     "languageId": "plaintext"
    }
   },
   "source": [
    "#streamlit is an open-source app framework for ML,DS projects.it allows you to create beautiful web applications for your ML,DS projects with sample python scripts\n"
   ]
  },
  {
   "cell_type": "code",
   "execution_count": 1,
   "id": "0455fc86",
   "metadata": {},
   "outputs": [
    {
     "name": "stdout",
     "output_type": "stream",
     "text": [
      "hello\n"
     ]
    }
   ],
   "source": [
    "print(\"hello\")\n"
   ]
  }
 ],
 "metadata": {
  "kernelspec": {
   "display_name": "Python 3",
   "language": "python",
   "name": "python3"
  },
  "language_info": {
   "codemirror_mode": {
    "name": "ipython",
    "version": 3
   },
   "file_extension": ".py",
   "mimetype": "text/x-python",
   "name": "python",
   "nbconvert_exporter": "python",
   "pygments_lexer": "ipython3",
   "version": "3.11.9"
  }
 },
 "nbformat": 4,
 "nbformat_minor": 5
}
