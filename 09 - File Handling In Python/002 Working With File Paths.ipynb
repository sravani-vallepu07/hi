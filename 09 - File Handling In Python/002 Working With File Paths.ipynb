{
 "cells": [
  {
   "cell_type": "code",
   "execution_count": 3,
   "id": "b191561a",
   "metadata": {},
   "outputs": [
    {
     "name": "stdout",
     "output_type": "stream",
     "text": [
      "current working directory isc:\\Downloads\\krish naiks ml\\udemy\\09 - File Handling In Python\n"
     ]
    }
   ],
   "source": [
    "import os\n",
    "cwd=os.getcwd()\n",
    "print(f\"current working directory is{cwd}\")"
   ]
  },
  {
   "cell_type": "code",
   "execution_count": 4,
   "id": "c2a4c8f9",
   "metadata": {},
   "outputs": [
    {
     "name": "stdout",
     "output_type": "stream",
     "text": [
      "directory'package'create\n"
     ]
    }
   ],
   "source": [
    "##create a new directory\n",
    "new_directory=\"package\"\n",
    "os.mkdir(new_directory)\n",
    "print(f\"directory'{new_directory}'create\")"
   ]
  },
  {
   "cell_type": "code",
   "execution_count": 5,
   "id": "dc0df69f",
   "metadata": {},
   "outputs": [
    {
     "name": "stdout",
     "output_type": "stream",
     "text": [
      "['001 File Operation In Python.ipynb', '001 File Operation In Python.mp4', '001 File Operation In Python_en.srt', '002 Working With File Paths.ipynb', '002 Working With File Paths.mp4', '002 Working With File Paths_en.srt', '003 File handling Operation Assignment With Solutions.html', '003 filehandlingquestions.zip', 'destination.txt', 'example.bin', 'example.txt', 'package']\n"
     ]
    }
   ],
   "source": [
    "##listing files and directories\n",
    "items=os.listdir('.')\n",
    "print(items)"
   ]
  },
  {
   "cell_type": "code",
   "execution_count": 6,
   "id": "a33ac35e",
   "metadata": {},
   "outputs": [
    {
     "name": "stdout",
     "output_type": "stream",
     "text": [
      "folder\\file.txt\n"
     ]
    }
   ],
   "source": [
    "# joining paths\n",
    "dir_name=\"folder\"\n",
    "file_name=\"file.txt\"\n",
    "full_path=os.path.join(dir_name,file_name)\n",
    "print(full_path)"
   ]
  },
  {
   "cell_type": "code",
   "execution_count": 8,
   "id": "822ac2cf",
   "metadata": {},
   "outputs": [
    {
     "name": "stdout",
     "output_type": "stream",
     "text": [
      "c:\\Downloads\\krish naiks ml\\udemy\\09 - File Handling In Python\\folder\\file.txt\n"
     ]
    }
   ],
   "source": [
    "dir_name=\"folder\"\n",
    "file_name=\"file.txt\"\n",
    "full_path=os.path.join(os.getcwd(),dir_name,file_name)\n",
    "print(full_path)"
   ]
  },
  {
   "cell_type": "code",
   "execution_count": 16,
   "id": "64ed6496",
   "metadata": {},
   "outputs": [
    {
     "name": "stdout",
     "output_type": "stream",
     "text": [
      "the path 'example1.txt' does not exists\n"
     ]
    }
   ],
   "source": [
    "path1='example1.txt'\n",
    "if os.path.exists(path1):\n",
    "    print(f\"the path '{path1}' esists\")\n",
    "else:\n",
    "    print(f\"the path '{path1}' does not exists\")\n"
   ]
  },
  {
   "cell_type": "code",
   "execution_count": 17,
   "id": "ac8ee22c",
   "metadata": {},
   "outputs": [
    {
     "name": "stdout",
     "output_type": "stream",
     "text": [
      "the path 'example.txt is a file.\n"
     ]
    }
   ],
   "source": [
    "#checking if a path is a file or directory\n",
    "path='example.txt'\n",
    "if os.path.isfile(path):\n",
    "    print(f\"the path '{path} is a file.\")\n",
    "elif os.path.isdir(path):\n",
    "    print(f\"the path '{path}' is a directory\")\n",
    "else:\n",
    "    print(f\"the path '{path}' is neither a file nor a directoy\")"
   ]
  },
  {
   "cell_type": "code",
   "execution_count": null,
   "id": "35cdcd34",
   "metadata": {},
   "outputs": [
    {
     "name": "stdout",
     "output_type": "stream",
     "text": [
      "c:\\Downloads\\krish naiks ml\\udemy\\09 - File Handling In Python\\example.txt\n"
     ]
    }
   ],
   "source": [
    "##getting the absolute path\n",
    "relative_path='example.txt'\n",
    "absolute_path=os.path.abspath(relative_path)\n",
    "print(absolute_path)"
   ]
  },
  {
   "cell_type": "code",
   "execution_count": null,
   "id": "7834a3b4",
   "metadata": {},
   "outputs": [],
   "source": []
  },
  {
   "cell_type": "code",
   "execution_count": null,
   "id": "0ac5b402",
   "metadata": {},
   "outputs": [],
   "source": []
  },
  {
   "cell_type": "code",
   "execution_count": null,
   "id": "4c903941",
   "metadata": {},
   "outputs": [],
   "source": []
  }
 ],
 "metadata": {
  "kernelspec": {
   "display_name": "Python 3",
   "language": "python",
   "name": "python3"
  },
  "language_info": {
   "codemirror_mode": {
    "name": "ipython",
    "version": 3
   },
   "file_extension": ".py",
   "mimetype": "text/x-python",
   "name": "python",
   "nbconvert_exporter": "python",
   "pygments_lexer": "ipython3",
   "version": "3.11.9"
  }
 },
 "nbformat": 4,
 "nbformat_minor": 5
}
