{
 "cells": [
  {
   "cell_type": "markdown",
   "id": "2a52fab7",
   "metadata": {},
   "source": [
    "FILE OPERATIONS-READ AND WRITE FILES \n",
    "\n",
    "\n",
    "\n",
    "\n",
    "\n",
    "\n",
    "\n",
    "\n",
    "file handling is a crucial part of any programming languages.python provides built-in-functions and meathods\n",
    "to read and write to files,both binary and text.this lesson will cover the basis of filehandling,\n",
    "including reading and writing textfiles and binary files"
   ]
  },
  {
   "cell_type": "code",
   "execution_count": 41,
   "id": "bda00df8",
   "metadata": {},
   "outputs": [
    {
     "name": "stdout",
     "output_type": "stream",
     "text": [
      "\u0000\u0001\u0002\u0003\u0004\n"
     ]
    }
   ],
   "source": [
    "with open('example.txt','r')as file:\n",
    "    content=file.read()\n",
    "    print(content)\n"
   ]
  },
  {
   "cell_type": "code",
   "execution_count": 42,
   "id": "4097c86f",
   "metadata": {},
   "outputs": [
    {
     "name": "stdout",
     "output_type": "stream",
     "text": [
      "\u0000\u0001\u0002\u0003\u0004\n"
     ]
    }
   ],
   "source": [
    "# read file line by line\n",
    "with open(\"example.txt\",'r') as file:\n",
    "    for line in file:\n",
    "        print(line.strip())##strip() remove the newline character"
   ]
  },
  {
   "cell_type": "code",
   "execution_count": 43,
   "id": "c31fe1b1",
   "metadata": {},
   "outputs": [],
   "source": [
    "# writing a file\n",
    "\n",
    "with open(\"example.txt\",'w') as file:\n",
    "    file.write(\"hello world!\\n\")\n",
    "    file.write(\"this is a new line.\")"
   ]
  },
  {
   "cell_type": "code",
   "execution_count": 44,
   "id": "561eed9b",
   "metadata": {},
   "outputs": [],
   "source": [
    "with open(\"example.txt\",'a') as file:\n",
    "    file.write(\"\\nthis appended the end of alredy written file\")"
   ]
  },
  {
   "cell_type": "code",
   "execution_count": 45,
   "id": "7a49d226",
   "metadata": {},
   "outputs": [],
   "source": [
    "# writing a list of line to afile\n",
    "lines=['first line\\n','second line\\n','third line\\n']\n",
    "with open(\"example.txt\",'a') as file:\n",
    "    file.writelines(lines)"
   ]
  },
  {
   "cell_type": "code",
   "execution_count": 46,
   "id": "c89e5203",
   "metadata": {},
   "outputs": [],
   "source": [
    "###bbinary files\n",
    "# writing to a binary file\n",
    "data=b'\\x00\\x01\\x02\\x03\\x04'\n",
    "with open(\"example.bin\",'wb') as file:\n",
    "    file.write(data)"
   ]
  },
  {
   "cell_type": "code",
   "execution_count": 47,
   "id": "0630f523",
   "metadata": {},
   "outputs": [
    {
     "name": "stdout",
     "output_type": "stream",
     "text": [
      "b'\\x00\\x01\\x02\\x03\\x04'\n"
     ]
    }
   ],
   "source": [
    "# reading afile\n",
    "with open(\"example.bin\",'rb') as file:\n",
    "    content=file.read()\n",
    "    print(content)"
   ]
  },
  {
   "cell_type": "code",
   "execution_count": 48,
   "id": "f8291ec9",
   "metadata": {},
   "outputs": [],
   "source": [
    "#read the content from source text file and write to a destination file\n",
    "with open('example.txt','r')as file:\n",
    "    content=file.read()\n",
    "with open('destination.txt','w')as file:\n",
    "    file.write(content)\n",
    "    "
   ]
  },
  {
   "cell_type": "code",
   "execution_count": 61,
   "id": "107996fc",
   "metadata": {},
   "outputs": [
    {
     "name": "stdout",
     "output_type": "stream",
     "text": [
      "111\n",
      "20\n",
      "5\n"
     ]
    }
   ],
   "source": [
    "# read a text file and count the number of lines,words,and characters\n",
    "with open('example.txt','r')as file:\n",
    "    lines=0\n",
    "    words=0\n",
    "    chars=0\n",
    "    for line in file:\n",
    "        lines+=1  # Reset file pointer to the beginning\n",
    "        no_of_words_in_line=line.split()\n",
    "        words+=len(no_of_words_in_line)\n",
    "        chars+=len(line)\n",
    "    print(chars)\n",
    "    print(words)\n",
    "    print(lines)"
   ]
  },
  {
   "cell_type": "markdown",
   "id": "efe94233",
   "metadata": {},
   "source": [
    "the w+ mode in python is used to open a file for both reading and writing.if the file does not exist,it will be created.if the file exists,its content will be truncated(i.e overwritten)"
   ]
  },
  {
   "cell_type": "code",
   "execution_count": 63,
   "id": "f945de6f",
   "metadata": {},
   "outputs": [
    {
     "name": "stdout",
     "output_type": "stream",
     "text": [
      "hello world\n",
      "this is a new line\n"
     ]
    }
   ],
   "source": [
    "# writing and then reading a file\n",
    "with open('example.txt','w+') as file:\n",
    "    file.write(\"hello world\\n\")\n",
    "    file.write(\"this is a new line\")\n",
    "\n",
    "    # move the file cursor to the begining\n",
    "    file.seek(0)\n",
    "    content=file.read()\n",
    "    print(content)"
   ]
  },
  {
   "cell_type": "code",
   "execution_count": null,
   "id": "4f572ac1",
   "metadata": {},
   "outputs": [],
   "source": []
  },
  {
   "cell_type": "code",
   "execution_count": null,
   "id": "c2e81207",
   "metadata": {},
   "outputs": [],
   "source": []
  },
  {
   "cell_type": "code",
   "execution_count": null,
   "id": "b320412c",
   "metadata": {},
   "outputs": [],
   "source": []
  }
 ],
 "metadata": {
  "kernelspec": {
   "display_name": "Python 3",
   "language": "python",
   "name": "python3"
  },
  "language_info": {
   "codemirror_mode": {
    "name": "ipython",
    "version": 3
   },
   "file_extension": ".py",
   "mimetype": "text/x-python",
   "name": "python",
   "nbconvert_exporter": "python",
   "pygments_lexer": "ipython3",
   "version": "3.11.9"
  }
 },
 "nbformat": 4,
 "nbformat_minor": 5
}
