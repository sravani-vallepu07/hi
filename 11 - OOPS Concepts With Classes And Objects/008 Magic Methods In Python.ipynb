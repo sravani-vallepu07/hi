{
 "cells": [
  {
   "cell_type": "markdown",
   "id": "1da425a9",
   "metadata": {},
   "source": [
    "MAGIC METHODS"
   ]
  },
  {
   "cell_type": "markdown",
   "id": "5bc6f65b",
   "metadata": {},
   "source": [
    "MAGIC MEATHODS ARE PREDEFINED MEATHODS IN PYTHON THAT YOU CAN OVERRIDE\n",
    "TO CHANGE THE BEHAVIOUR OF YOUR OBJECTS.SOME COMMON MEATHODS INCLUDE:\n",
    "\n",
    "\n"
   ]
  },
  {
   "cell_type": "code",
   "execution_count": 1,
   "id": "108375a4",
   "metadata": {},
   "outputs": [
    {
     "data": {
      "text/plain": [
       "'\\n__init__:intilizies a new intance of a class\\n\\n__str__: returns a string representation of an object.\\n\\n__repr__:returns a official string representation of an object.\\n\\n__len__:returns the length of an objects.\\n\\n__getitem__:gets an item from a container.\\n\\n__setitem__:sets an item in a container.\\n\\n'"
      ]
     },
     "execution_count": 1,
     "metadata": {},
     "output_type": "execute_result"
    }
   ],
   "source": [
    "'''\n",
    "__init__:intilizies a new intance of a class\n",
    "\n",
    "__str__: returns a string representation of an object.\n",
    "\n",
    "__repr__:returns a official string representation of an object.\n",
    "\n",
    "__len__:returns the length of an objects.\n",
    "\n",
    "__getitem__:gets an item from a container.\n",
    "\n",
    "__setitem__:sets an item in a container.\n",
    "\n",
    "'''\n"
   ]
  },
  {
   "cell_type": "code",
   "execution_count": 2,
   "id": "533c2fa9",
   "metadata": {},
   "outputs": [
    {
     "data": {
      "text/plain": [
       "['__class__',\n",
       " '__delattr__',\n",
       " '__dict__',\n",
       " '__dir__',\n",
       " '__doc__',\n",
       " '__eq__',\n",
       " '__format__',\n",
       " '__ge__',\n",
       " '__getattribute__',\n",
       " '__getstate__',\n",
       " '__gt__',\n",
       " '__hash__',\n",
       " '__init__',\n",
       " '__init_subclass__',\n",
       " '__le__',\n",
       " '__lt__',\n",
       " '__module__',\n",
       " '__ne__',\n",
       " '__new__',\n",
       " '__reduce__',\n",
       " '__reduce_ex__',\n",
       " '__repr__',\n",
       " '__setattr__',\n",
       " '__sizeof__',\n",
       " '__str__',\n",
       " '__subclasshook__',\n",
       " '__weakref__']"
      ]
     },
     "execution_count": 2,
     "metadata": {},
     "output_type": "execute_result"
    }
   ],
   "source": [
    "class person:\n",
    "    pass\n",
    "person=person()\n",
    "dir(person)"
   ]
  },
  {
   "cell_type": "code",
   "execution_count": 3,
   "id": "5cad75a3",
   "metadata": {},
   "outputs": [
    {
     "name": "stdout",
     "output_type": "stream",
     "text": [
      "<__main__.person object at 0x000001E818DDA6D0>\n"
     ]
    }
   ],
   "source": [
    "print(person)"
   ]
  },
  {
   "cell_type": "code",
   "execution_count": 7,
   "id": "4140b921",
   "metadata": {},
   "outputs": [
    {
     "name": "stdout",
     "output_type": "stream",
     "text": [
      "<__main__.person object at 0x000001E818ED8B50>\n"
     ]
    }
   ],
   "source": [
    "##basics meathods\n",
    "class person:\n",
    "    def __init__(self,name,age):\n",
    "        self.name=name\n",
    "        self.age=age\n",
    "        \n",
    "person=person(\"krsih\",34)\n",
    "print(person)"
   ]
  },
  {
   "cell_type": "code",
   "execution_count": 13,
   "id": "4061db5f",
   "metadata": {},
   "outputs": [
    {
     "name": "stdout",
     "output_type": "stream",
     "text": [
      "krsih,34years old\n",
      "person(name=krsih,age=34)\n"
     ]
    }
   ],
   "source": [
    "class person:\n",
    "    def __init__(self,name,age):\n",
    "        self.name=name\n",
    "        self.age=age\n",
    "    def __str__(self):\n",
    "        return f\"{self.name},{self.age }years old\" \n",
    "    def __repr__(self):\n",
    "        return f\"person(name={self.name},age={self.age})\"\n",
    "person=person(\"krsih\",34)\n",
    "print(person)\n",
    "print(repr(person))"
   ]
  },
  {
   "cell_type": "code",
   "execution_count": null,
   "id": "ed269f2d",
   "metadata": {},
   "outputs": [],
   "source": []
  },
  {
   "cell_type": "code",
   "execution_count": null,
   "id": "72d395a6",
   "metadata": {},
   "outputs": [],
   "source": []
  }
 ],
 "metadata": {
  "kernelspec": {
   "display_name": "Python 3",
   "language": "python",
   "name": "python3"
  },
  "language_info": {
   "codemirror_mode": {
    "name": "ipython",
    "version": 3
   },
   "file_extension": ".py",
   "mimetype": "text/x-python",
   "name": "python",
   "nbconvert_exporter": "python",
   "pygments_lexer": "ipython3",
   "version": "3.11.9"
  }
 },
 "nbformat": 4,
 "nbformat_minor": 5
}
