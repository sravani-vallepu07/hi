{
 "cells": [
  {
   "cell_type": "markdown",
   "id": "d3caefc8",
   "metadata": {},
   "source": [
    "CUSTOM EXCEPTION(RAISE AN THROW EXCEPTION)"
   ]
  },
  {
   "cell_type": "code",
   "execution_count": null,
   "id": "4c039c97",
   "metadata": {},
   "outputs": [],
   "source": [
    "class Error(Exception):\n",
    "    pass\n",
    "class dobException(Error):\n",
    "    pass\n",
    "\n",
    "\n"
   ]
  },
  {
   "cell_type": "code",
   "execution_count": 12,
   "id": "5c6510f6",
   "metadata": {},
   "outputs": [
    {
     "name": "stdout",
     "output_type": "stream",
     "text": [
      "age is valid so you can apply for the exam\n"
     ]
    }
   ],
   "source": [
    "year=int(input(\"enter the dob\"))\n",
    "age=2024-year\n",
    "try:\n",
    "    if age<=30 and age>=20:\n",
    "        print(\"age is valid so you can apply for the exam\")\n",
    "    else:\n",
    "        raise dobException\n",
    "except dobException:\n",
    "    print(\"sorry your age is not within in the range\")\n"
   ]
  }
 ],
 "metadata": {
  "kernelspec": {
   "display_name": "Python 3",
   "language": "python",
   "name": "python3"
  },
  "language_info": {
   "codemirror_mode": {
    "name": "ipython",
    "version": 3
   },
   "file_extension": ".py",
   "mimetype": "text/x-python",
   "name": "python",
   "nbconvert_exporter": "python",
   "pygments_lexer": "ipython3",
   "version": "3.11.9"
  }
 },
 "nbformat": 4,
 "nbformat_minor": 5
}
