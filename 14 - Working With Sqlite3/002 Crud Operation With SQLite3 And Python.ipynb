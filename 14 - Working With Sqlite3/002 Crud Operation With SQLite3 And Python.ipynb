{
 "cells": [
  {
   "cell_type": "markdown",
   "id": "8dbfcc77",
   "metadata": {},
   "source": [
    "SQL AND SQLite\n",
    "\n",
    "\n",
    "SQL(Structured Query Language) is a standard language for managing and manipulating relational databases.SQLite is a self-contained,serverless,and zero-configuration database engine that is widely used for embedded database systems.in this lesson,we will cover the basics of SQL and SQLite,including creating databases,tables,and performing various SQL operations"
   ]
  },
  {
   "cell_type": "code",
   "execution_count": 63,
   "id": "47a3130d",
   "metadata": {},
   "outputs": [],
   "source": [
    "import sqlite3\n"
   ]
  },
  {
   "cell_type": "code",
   "execution_count": 64,
   "id": "18e652ed",
   "metadata": {},
   "outputs": [
    {
     "data": {
      "text/plain": [
       "<sqlite3.Connection at 0x1333a04fa60>"
      ]
     },
     "execution_count": 64,
     "metadata": {},
     "output_type": "execute_result"
    }
   ],
   "source": [
    "#connect to an SQLite database\n",
    "connection=sqlite3.connect(\"example1.db\")\n",
    "connection"
   ]
  },
  {
   "cell_type": "code",
   "execution_count": 65,
   "id": "a650239f",
   "metadata": {},
   "outputs": [],
   "source": [
    "cursor=connection.cursor()\n"
   ]
  },
  {
   "cell_type": "code",
   "execution_count": 66,
   "id": "40859dcf",
   "metadata": {},
   "outputs": [],
   "source": [
    "##create a table\n",
    "cursor.execute('''\n",
    "create Table if not exists employ(\n",
    "    id Integer Primary Key,\n",
    "    name Text Not Null,\n",
    "    age Integer,\n",
    "    departement Text\n",
    "    )\n",
    "''')\n",
    "connection.commit()\n"
   ]
  },
  {
   "cell_type": "code",
   "execution_count": 67,
   "id": "a5486874",
   "metadata": {},
   "outputs": [
    {
     "data": {
      "text/plain": [
       "<sqlite3.Cursor at 0x13338c7f440>"
      ]
     },
     "execution_count": 67,
     "metadata": {},
     "output_type": "execute_result"
    }
   ],
   "source": [
    "cursor.execute('''\n",
    "Select * from employ\n",
    "''')"
   ]
  },
  {
   "cell_type": "code",
   "execution_count": 68,
   "id": "3198cc32",
   "metadata": {},
   "outputs": [],
   "source": [
    "##Insert the data in sqlite table\n",
    "\n",
    "cursor.execute('''\n",
    "Insert Into employ(name,age,departement)\n",
    "               values('krish',32,'Data Scientist')\n",
    "''')\n",
    "\n",
    "cursor.execute('''\n",
    "Insert Into employ(name,age,departement)\n",
    "               values('bob',25,'Engineering')\n",
    "''')\n",
    "\n",
    "cursor.execute('''\n",
    "Insert Into employ(name,age,departement)\n",
    "               values('charlie',35,'Finance')\n",
    "''')\n",
    "\n",
    "\n",
    "##commit the changes\n",
    "connection.commit()"
   ]
  },
  {
   "cell_type": "code",
   "execution_count": 69,
   "id": "479c59a6",
   "metadata": {},
   "outputs": [
    {
     "name": "stdout",
     "output_type": "stream",
     "text": [
      "(1, 'krish', 32, 'Data Scientist')\n",
      "(2, 'bob', 25, 'Engineering')\n",
      "(3, 'charlie', 35, 'Finance')\n"
     ]
    }
   ],
   "source": [
    "##query the data from the table\n",
    "cursor.execute('select * from employ')\n",
    "rows=cursor.fetchall()\n",
    "# print the query data\n",
    "for row in rows:\n",
    "    print(row)"
   ]
  },
  {
   "cell_type": "code",
   "execution_count": 70,
   "id": "32956af6",
   "metadata": {},
   "outputs": [],
   "source": [
    "##update the data in table\n",
    "cursor.execute('''\n",
    "UPDATE employ\n",
    "set age=34\n",
    "where name='krish'\n",
    "''')\n",
    "connection.commit()"
   ]
  },
  {
   "cell_type": "code",
   "execution_count": 71,
   "id": "ff771e3e",
   "metadata": {},
   "outputs": [
    {
     "name": "stdout",
     "output_type": "stream",
     "text": [
      "(1, 'krish', 34, 'Data Scientist')\n",
      "(2, 'bob', 25, 'Engineering')\n",
      "(3, 'charlie', 35, 'Finance')\n"
     ]
    }
   ],
   "source": [
    "cursor.execute('select * from employ')\n",
    "rows=cursor.fetchall()\n",
    "# print the query data\n",
    "for row in rows:\n",
    "    print(row)"
   ]
  },
  {
   "cell_type": "code",
   "execution_count": 72,
   "id": "17605908",
   "metadata": {},
   "outputs": [
    {
     "data": {
      "text/plain": [
       "<sqlite3.Cursor at 0x13338c7f440>"
      ]
     },
     "execution_count": 72,
     "metadata": {},
     "output_type": "execute_result"
    }
   ],
   "source": [
    "##delete the data from the table\n",
    "cursor.execute('''\n",
    "delete from employ\n",
    "               where name='bob'\n",
    "               ''')"
   ]
  },
  {
   "cell_type": "code",
   "execution_count": 73,
   "id": "44dcceee",
   "metadata": {},
   "outputs": [
    {
     "name": "stdout",
     "output_type": "stream",
     "text": [
      "(1, 'krish', 34, 'Data Scientist')\n",
      "(3, 'charlie', 35, 'Finance')\n"
     ]
    }
   ],
   "source": [
    "cursor.execute('select * from employ')\n",
    "rows=cursor.fetchall()\n",
    "# print the query data\n",
    "for row in rows:\n",
    "    print(row)"
   ]
  },
  {
   "cell_type": "code",
   "execution_count": 74,
   "id": "ef426717",
   "metadata": {},
   "outputs": [],
   "source": [
    "##working with sales data\n",
    "connection=sqlite3.connect('sales_data.db')\n",
    "cursor=connection.cursor()\n",
    "cursor.execute('''\n",
    "create table if not exists sels(\n",
    "               id int primary key,\n",
    "               date text not null,\n",
    "               product text not null,\n",
    "               sales int,\n",
    "               region text\n",
    "               )\n",
    "''')\n",
    "sales_data = [\n",
    "        ('2023-01-01','product1',100,'north'),\n",
    "        ('2023-01-02','product2',200,'south'),\n",
    "        ('2023-01-03','product1',150,'east'),\n",
    "        ('2023-01-04','product3',250,'west'),\n",
    "        ('2023-01-05','product2',300,'north')\n",
    "]\n",
    "cursor.executemany('''\n",
    "insert into sels(date,product,sales,region)\n",
    "                   values(?,?,?,?)\n",
    "''',sales_data)\n",
    "connection.commit()\n"
   ]
  },
  {
   "cell_type": "code",
   "execution_count": 75,
   "id": "f8990472",
   "metadata": {},
   "outputs": [
    {
     "name": "stdout",
     "output_type": "stream",
     "text": [
      "(None, '2023-01-01', 'product1', 100, 'north')\n",
      "(None, '2023-01-02', 'product2', 200, 'south')\n",
      "(None, '2023-01-03', 'product1', 150, 'east')\n",
      "(None, '2023-01-04', 'product3', 250, 'west')\n",
      "(None, '2023-01-05', 'product2', 300, 'north')\n"
     ]
    }
   ],
   "source": [
    "cursor.execute('select * from sels')\n",
    "rows=cursor.fetchall()\n",
    "# print the query data\n",
    "for row in rows:\n",
    "    print(row)"
   ]
  },
  {
   "cell_type": "code",
   "execution_count": 76,
   "id": "07d463b1",
   "metadata": {},
   "outputs": [],
   "source": [
    "connection.close()"
   ]
  },
  {
   "cell_type": "code",
   "execution_count": 77,
   "id": "e9ae2290",
   "metadata": {},
   "outputs": [
    {
     "ename": "ProgrammingError",
     "evalue": "Cannot operate on a closed database.",
     "output_type": "error",
     "traceback": [
      "\u001b[31m---------------------------------------------------------------------------\u001b[39m",
      "\u001b[31mProgrammingError\u001b[39m                          Traceback (most recent call last)",
      "\u001b[36mCell\u001b[39m\u001b[36m \u001b[39m\u001b[32mIn[77]\u001b[39m\u001b[32m, line 1\u001b[39m\n\u001b[32m----> \u001b[39m\u001b[32m1\u001b[39m \u001b[43mcursor\u001b[49m\u001b[43m.\u001b[49m\u001b[43mexecute\u001b[49m\u001b[43m(\u001b[49m\u001b[33;43m'\u001b[39;49m\u001b[33;43mselect * from sels\u001b[39;49m\u001b[33;43m'\u001b[39;49m\u001b[43m)\u001b[49m\n\u001b[32m      2\u001b[39m rows=cursor.fetchall()\n\u001b[32m      3\u001b[39m \u001b[38;5;66;03m# print the query data\u001b[39;00m\n",
      "\u001b[31mProgrammingError\u001b[39m: Cannot operate on a closed database."
     ]
    }
   ],
   "source": [
    "cursor.execute('select * from sels')\n",
    "rows=cursor.fetchall()\n",
    "# print the query data\n",
    "for row in rows:\n",
    "    print(row)"
   ]
  }
 ],
 "metadata": {
  "kernelspec": {
   "display_name": "Python 3",
   "language": "python",
   "name": "python3"
  },
  "language_info": {
   "codemirror_mode": {
    "name": "ipython",
    "version": 3
   },
   "file_extension": ".py",
   "mimetype": "text/x-python",
   "name": "python",
   "nbconvert_exporter": "python",
   "pygments_lexer": "ipython3",
   "version": "3.11.9"
  }
 },
 "nbformat": 4,
 "nbformat_minor": 5
}
