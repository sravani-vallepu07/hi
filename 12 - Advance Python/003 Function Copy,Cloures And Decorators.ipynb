{
 "cells": [
  {
   "cell_type": "markdown",
   "id": "8a3f128a",
   "metadata": {},
   "source": [
    "DECORATORS"
   ]
  },
  {
   "cell_type": "markdown",
   "id": "5122f25e",
   "metadata": {},
   "source": [
    "decorators are a powerful and flexible feature in python that allows ypu to modify the behaviour of afunction or class meathod.they are commonly used to add functionality to functions or meathods without modifying their actual code.this lesson cover the basis of decorators,including how to create and use them"
   ]
  },
  {
   "cell_type": "code",
   "execution_count": 131,
   "id": "5f702a08",
   "metadata": {},
   "outputs": [],
   "source": [
    "###function copu\n",
    "###closures\n",
    "##decorators"
   ]
  },
  {
   "cell_type": "code",
   "execution_count": 132,
   "id": "aa2a27fe",
   "metadata": {},
   "outputs": [
    {
     "data": {
      "text/plain": [
       "'welcome to the advanced python course'"
      ]
     },
     "execution_count": 132,
     "metadata": {},
     "output_type": "execute_result"
    }
   ],
   "source": [
    "##function copy\n",
    "def welcome():\n",
    "    return \"welcome to the advanced python course\"\n",
    "welcome()"
   ]
  },
  {
   "cell_type": "code",
   "execution_count": 133,
   "id": "1804c1e7",
   "metadata": {},
   "outputs": [
    {
     "data": {
      "text/plain": [
       "'welcome to the advanced python course'"
      ]
     },
     "execution_count": 133,
     "metadata": {},
     "output_type": "execute_result"
    }
   ],
   "source": [
    "wel=welcome\n",
    "wel()"
   ]
  },
  {
   "cell_type": "code",
   "execution_count": 134,
   "id": "3b524b92",
   "metadata": {},
   "outputs": [
    {
     "name": "stdout",
     "output_type": "stream",
     "text": [
      "welcome to the advanced python course\n",
      "welcome to the advanced python course\n"
     ]
    }
   ],
   "source": [
    "wel=welcome\n",
    "print(wel())\n",
    "del welcome\n",
    "print(wel())"
   ]
  },
  {
   "cell_type": "code",
   "execution_count": 135,
   "id": "ab0a6785",
   "metadata": {},
   "outputs": [],
   "source": [
    "###closures\n",
    "def main_welcome(msg):\n",
    "    def sub_welcome():\n",
    "        print(\"welcome to advance python course\")\n",
    "        print(msg)\n",
    "        print(\"pls learn these concepts properly\")\n",
    "    return sub_welcome()"
   ]
  },
  {
   "cell_type": "code",
   "execution_count": 136,
   "id": "9f9b512b",
   "metadata": {},
   "outputs": [
    {
     "name": "stdout",
     "output_type": "stream",
     "text": [
      "welcome to advance python course\n",
      "welcome everyone\n",
      "pls learn these concepts properly\n"
     ]
    }
   ],
   "source": [
    "main_welcome(\"welcome everyone\")"
   ]
  },
  {
   "cell_type": "code",
   "execution_count": 137,
   "id": "881010a4",
   "metadata": {},
   "outputs": [],
   "source": [
    "# 2\n",
    "def main_welcome(func):\n",
    "    def sub_welcome():\n",
    "        print(\"welcome to advance python course\")\n",
    "        func(\"welcome everyone to this tutorial\")\n",
    "        print(\"pls learn these concepts properly\")\n",
    "    return sub_welcome()"
   ]
  },
  {
   "cell_type": "code",
   "execution_count": 138,
   "id": "9558974c",
   "metadata": {},
   "outputs": [
    {
     "name": "stdout",
     "output_type": "stream",
     "text": [
      "welcome to advance python course\n",
      "welcome everyone to this tutorial\n",
      "pls learn these concepts properly\n"
     ]
    }
   ],
   "source": [
    "main_welcome(print)"
   ]
  },
  {
   "cell_type": "code",
   "execution_count": 139,
   "id": "7b2d2b26",
   "metadata": {},
   "outputs": [],
   "source": [
    "# 3\n",
    "def main_welcome(func,lst):\n",
    "    def sub_welcome():\n",
    "        print(\"welcome to advance python course\")\n",
    "        print(func(lst))\n",
    "        print(\"pls learn these concepts properly\")\n",
    "    return sub_welcome()"
   ]
  },
  {
   "cell_type": "code",
   "execution_count": 140,
   "id": "a442705c",
   "metadata": {},
   "outputs": [
    {
     "name": "stdout",
     "output_type": "stream",
     "text": [
      "welcome to advance python course\n",
      "5\n",
      "pls learn these concepts properly\n"
     ]
    }
   ],
   "source": [
    "main_welcome(len,[1,2,3,4,5])"
   ]
  },
  {
   "cell_type": "code",
   "execution_count": 141,
   "id": "f78c5005",
   "metadata": {},
   "outputs": [],
   "source": [
    "###decorator\n",
    "def main_welcome(func):\n",
    "    def sub_welcome():\n",
    "        print(\"welcome to advance python course\")\n",
    "        func()\n",
    "        print(\"pls learn these concepts properly\")\n",
    "    return sub_welcome()"
   ]
  },
  {
   "cell_type": "code",
   "execution_count": 142,
   "id": "1a67575d",
   "metadata": {},
   "outputs": [],
   "source": [
    "# def course_introduction():\n",
    "#     print(\"this is an advanced python course\")\n",
    "\n",
    "# course_introduction()"
   ]
  },
  {
   "cell_type": "code",
   "execution_count": 143,
   "id": "5e86211b",
   "metadata": {},
   "outputs": [],
   "source": [
    "# main_welcome(course_introduction)"
   ]
  },
  {
   "cell_type": "code",
   "execution_count": 144,
   "id": "07db6efb",
   "metadata": {},
   "outputs": [
    {
     "name": "stdout",
     "output_type": "stream",
     "text": [
      "welcome to advance python course\n",
      "this is an advanced python course\n",
      "pls learn these concepts properly\n"
     ]
    }
   ],
   "source": [
    "# another way\n",
    "@main_welcome\n",
    "def course_introduction():\n",
    "    print(\"this is an advanced python course\")\n"
   ]
  },
  {
   "cell_type": "code",
   "execution_count": 154,
   "id": "d8d742ec",
   "metadata": {},
   "outputs": [],
   "source": [
    "# decorator ex2\n",
    "def my_decorator(func):\n",
    "    def wrapper():\n",
    "        print(\"domething is happening before the function is called.\")\n",
    "        func()\n",
    "        print(\"something is happening after the function is called.\")\n",
    "    return wrapper"
   ]
  },
  {
   "cell_type": "code",
   "execution_count": 153,
   "id": "55c590cc",
   "metadata": {},
   "outputs": [
    {
     "name": "stdout",
     "output_type": "stream",
     "text": [
      "domething is happening before the function is called.\n",
      "hello sir\n",
      "something is happening after the function is called.\n"
     ]
    }
   ],
   "source": [
    "@my_decorator\n",
    "def say_hello():\n",
    "    print(\"hello sir\")"
   ]
  },
  {
   "cell_type": "code",
   "execution_count": 151,
   "id": "dfc3433b",
   "metadata": {},
   "outputs": [
    {
     "name": "stdout",
     "output_type": "stream",
     "text": [
      "domething is happening before the function is called.\n",
      "hello sir\n",
      "something is happening after the function is called.\n"
     ]
    }
   ],
   "source": [
    "say_hello()"
   ]
  },
  {
   "cell_type": "code",
   "execution_count": 155,
   "id": "990314e7",
   "metadata": {},
   "outputs": [],
   "source": [
    "###decorators with argumrnts\n",
    "def repeat(n):\n",
    "    def decorator(func):\n",
    "        def wrapper(*args,**kwargs):\n",
    "            for _ in range(n):\n",
    "                func(*args,**kwargs)\n",
    "        return wrapper\n",
    "    return decorator"
   ]
  },
  {
   "cell_type": "code",
   "execution_count": 156,
   "id": "828b623d",
   "metadata": {},
   "outputs": [],
   "source": [
    "@repeat(3)\n",
    "def say_hello():\n",
    "    print(\"Hello\")"
   ]
  },
  {
   "cell_type": "code",
   "execution_count": 157,
   "id": "be5250d3",
   "metadata": {},
   "outputs": [
    {
     "name": "stdout",
     "output_type": "stream",
     "text": [
      "Hello\n",
      "Hello\n",
      "Hello\n"
     ]
    }
   ],
   "source": [
    "say_hello()"
   ]
  },
  {
   "cell_type": "markdown",
   "id": "5d7e97b8",
   "metadata": {},
   "source": [
    "decorators are a powerful tool inn python for extending and modifying the behaviour of a function and meathods.they provide a clean and readable way to add functionality such as logging,timing,access control,and more without changing the original code.understanding and using decorators effectively can significantly enhance your python programmin skills."
   ]
  }
 ],
 "metadata": {
  "kernelspec": {
   "display_name": "Python 3",
   "language": "python",
   "name": "python3"
  },
  "language_info": {
   "codemirror_mode": {
    "name": "ipython",
    "version": 3
   },
   "file_extension": ".py",
   "mimetype": "text/x-python",
   "name": "python",
   "nbconvert_exporter": "python",
   "pygments_lexer": "ipython3",
   "version": "3.11.9"
  }
 },
 "nbformat": 4,
 "nbformat_minor": 5
}
