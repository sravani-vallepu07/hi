{
 "cells": [
  {
   "cell_type": "code",
   "execution_count": 1,
   "id": "c6f2ff2f",
   "metadata": {},
   "outputs": [
    {
     "name": "stdout",
     "output_type": "stream",
     "text": [
      "66\n"
     ]
    }
   ],
   "source": [
    "# sum of elements in list\n",
    "def sum_list(numbers):\n",
    "    total=0\n",
    "    for num in numbers:\n",
    "        total+=num\n",
    "    return total\n",
    "numbers=[1,40,2,1,22]\n",
    "kl=sum_list(numbers)\n",
    "print(kl)"
   ]
  },
  {
   "cell_type": "code",
   "execution_count": 2,
   "id": "0f0b32ff",
   "metadata": {},
   "outputs": [
    {
     "name": "stdout",
     "output_type": "stream",
     "text": [
      "74\n"
     ]
    }
   ],
   "source": [
    "# largest element in list\n",
    "def largest(numbers):\n",
    "    if not numbers:\n",
    "        return None\n",
    "    for i in range(0,len(numbers)-1):\n",
    "        if(numbers[i]>numbers[i+1]):\n",
    "            temp=numbers[i+1]\n",
    "            numbers[i+1]=numbers[i]\n",
    "            numbers[i]=temp\n",
    "    return numbers[len(numbers)-1]\n",
    "numbers=[6,74]\n",
    "kl=largest(numbers)\n",
    "print(kl)"
   ]
  },
  {
   "cell_type": "code",
   "execution_count": 3,
   "id": "1b8a9724",
   "metadata": {},
   "outputs": [
    {
     "name": "stdout",
     "output_type": "stream",
     "text": [
      "[6, 9, 7, 3, 0, 4]\n"
     ]
    }
   ],
   "source": [
    "# remove duplicates\n",
    "def duplicates(numbers):\n",
    "    unique_list=[]\n",
    "    for num in numbers:\n",
    "        if num not in unique_list:\n",
    "            unique_list.append(num)\n",
    "    return unique_list\n",
    "numbers=[6,9,9,7,6,3,0,9,9,3,4]\n",
    "kl=duplicates(numbers)\n",
    "print(kl)"
   ]
  },
  {
   "cell_type": "code",
   "execution_count": 4,
   "id": "152edb71",
   "metadata": {},
   "outputs": [
    {
     "name": "stdout",
     "output_type": "stream",
     "text": [
      "True\n"
     ]
    }
   ],
   "source": [
    "# Write a Python program that checks if all elements in the list are unique. If all elements are unique, return True; otherwise, return False.\n",
    "def duplicates(numbers):\n",
    "    unique_list=[]\n",
    "    for num in numbers:\n",
    "        if num not in unique_list:\n",
    "            unique_list.append(num)\n",
    "    if(unique_list==numbers):\n",
    "        return True\n",
    "    else:\n",
    "        return False\n",
    "numbers=[6,9,3,4]\n",
    "kl=duplicates(numbers)\n",
    "print(kl)\n",
    "# or\n",
    "# def duplicates(numbers):\n",
    "#     unique_list=[]\n",
    "#     for num in numbers:\n",
    "#         if num in unique_list:\n",
    "#             return False\n",
    "#         unique_list.append(num)\n",
    "#     return True\n",
    "# numbers=[6,9,3,9,4]\n",
    "# kl=duplicates(numbers)\n",
    "# print(kl)\n"
   ]
  },
  {
   "cell_type": "code",
   "execution_count": 5,
   "id": "62f0e5e0",
   "metadata": {},
   "outputs": [
    {
     "name": "stdout",
     "output_type": "stream",
     "text": [
      "[7, 7, 906, 78, 5, 2, 3, 2, 1]\n"
     ]
    }
   ],
   "source": [
    "# reverse a list\n",
    "def reverse(list):\n",
    "    start=0\n",
    "    end=len(list)-1\n",
    "    while start<end:\n",
    "        list[start],list[end]=list[end],list[start]\n",
    "        start+=1\n",
    "        end-=1\n",
    "    return list\n",
    "lists=[1,2,3,2,5,78,906,7,7]\n",
    "l=reverse(lists)\n",
    "print(l)\n"
   ]
  },
  {
   "cell_type": "code",
   "execution_count": 6,
   "id": "88ef4ee0",
   "metadata": {},
   "outputs": [
    {
     "name": "stdout",
     "output_type": "stream",
     "text": [
      "3 6\n"
     ]
    }
   ],
   "source": [
    "def count_of_even_odd(list):\n",
    "    even_count=0\n",
    "    odd_count=0\n",
    "    for i in list:\n",
    "        if i%2==0:\n",
    "            even_count+=1\n",
    "        else:\n",
    "            odd_count+=1\n",
    "    return even_count,odd_count\n",
    "lists=[1,2,3,2,5,7,906,7,7]\n",
    "l,m=count_of_even_odd(lists)\n",
    "print(l,m)"
   ]
  },
  {
   "cell_type": "code",
   "execution_count": 7,
   "id": "ab89fce6",
   "metadata": {},
   "outputs": [
    {
     "name": "stdout",
     "output_type": "stream",
     "text": [
      "True\n"
     ]
    }
   ],
   "source": [
    "# list is subset of another list or not\n",
    "def subset(lst1,lst2):\n",
    "    for ele in lst1:\n",
    "        found=False\n",
    "        for item in lst2:\n",
    "            if item==ele:\n",
    "                found=True\n",
    "        if not found:\n",
    "            return False\n",
    "    return True\n",
    "lst1=[]\n",
    "lst2=[4,5,6,1,2,3]\n",
    "print(subset(lst1,lst2))\n",
    "    "
   ]
  },
  {
   "cell_type": "code",
   "execution_count": 8,
   "id": "a33a01f5",
   "metadata": {},
   "outputs": [
    {
     "name": "stdout",
     "output_type": "stream",
     "text": [
      "0\n"
     ]
    }
   ],
   "source": [
    "def max_difference(lst):\n",
    "    largest=0\n",
    "    for i in range(0,len(lst)-1):\n",
    "        k=abs(lst[i]-lst[i+1])\n",
    "        if(k>largest):\n",
    "            largest=k\n",
    "    return largest\n",
    "lst=[6]\n",
    "print(max_difference(lst))"
   ]
  },
  {
   "cell_type": "code",
   "execution_count": 11,
   "id": "b2630142",
   "metadata": {},
   "outputs": [
    {
     "name": "stdout",
     "output_type": "stream",
     "text": [
      "[1, 2, 3, 4, 7, 8, 8, 50, 90]\n"
     ]
    }
   ],
   "source": [
    "def sorted_list(lst1,lst2):\n",
    "    k=0\n",
    "    l=0\n",
    "    lst3=[]\n",
    "    while k<len(lst1) and l<len(lst2):\n",
    "        if lst1[k]<lst2[l]:\n",
    "            lst3.append(lst1[k])\n",
    "            k+=1\n",
    "        else: \n",
    "            lst3.append(lst2[l])\n",
    "            l+=1\n",
    "    while k<len(lst1):\n",
    "        lst3.append(lst1[k])\n",
    "        k+=1\n",
    "    while l<len(lst2):\n",
    "        lst3.append(lst2[l])\n",
    "        l+=1\n",
    "    return lst3\n",
    "lst1=[4,7,8,90]\n",
    "lst2=[1,2,3,8,50]\n",
    "print(sorted_list(lst1,lst2))"
   ]
  },
  {
   "cell_type": "code",
   "execution_count": 20,
   "id": "b1a561df",
   "metadata": {},
   "outputs": [
    {
     "name": "stdout",
     "output_type": "stream",
     "text": [
      "[3, 2, 7, 3, 4]\n"
     ]
    }
   ],
   "source": [
    "# Write a Python function to rotate the list to the right by k positions without using slicing. A rotation shifts elements from the end of the list to the front.\n",
    "def rotate_list(lst,k):\n",
    "    if not lst:\n",
    "        return []\n",
    "    k=k%len(lst)\n",
    "    for _ in range(k):\n",
    "        last_element=lst.pop()\n",
    "        lst.insert(0,last_element)\n",
    "    return lst\n",
    "lst=[7,3,4,3,2]\n",
    "k=2\n",
    "print(rotate_list(lst,k))"
   ]
  },
  {
   "cell_type": "code",
   "execution_count": 22,
   "id": "d4987fd4",
   "metadata": {},
   "outputs": [
    {
     "name": "stdout",
     "output_type": "stream",
     "text": [
      "{'a': 1, 'b': 2, 'c': 3, 'd': 4}\n"
     ]
    }
   ],
   "source": [
    "# Merge Lists to Dictionary\n",
    "\n",
    "# Design a Python function named merge_lists_to_dictionary to merge two lists into a dictionary \n",
    "# where elements from the first list act as keys\n",
    "#  and elements from the second list act as values.\n",
    "def merge_lists_to_dictionary(keys,values):\n",
    "    result={}\n",
    "    if len(keys)!=len(values):\n",
    "        return False\n",
    "    for i in range(len(keys)):\n",
    "        result[keys[i]]=values[i]\n",
    "    return result\n",
    "keys=[\"a\",\"b\",\"c\",\"d\"]\n",
    "values=[1,2,3,4]\n",
    "print(merge_lists_to_dictionary(keys,values))"
   ]
  },
  {
   "cell_type": "code",
   "execution_count": 73,
   "id": "45c129e1",
   "metadata": {},
   "outputs": [
    {
     "name": "stdout",
     "output_type": "stream",
     "text": [
      "{'a': 1, 'b': 2, 'c': 3, 'd': 4, 'e': 5, 'f': 6}\n"
     ]
    }
   ],
   "source": [
    "# Design a Python function named merge_three_dictionaries to merge \n",
    "# exactly three dictionaries into one.\n",
    "\n",
    "\n",
    "# def merge(dict1,dict2,dict3):\n",
    "#     merged_dict=dict1.copy()\n",
    "#     for key,value in dict2.items():\n",
    "#         merged_dict[key]=value\n",
    "#     for key,value in dict3.items():\n",
    "#         merged_dict[key]=value\n",
    "# #     return merged_dict\n",
    "# dict1={\"a\":1,\"b\":2}\n",
    "# dict2={\"c\":3,\"d\":4}\n",
    "# dict3={\"e\":5,\"f\":6}\n",
    "# print(merge(dict1,dict2,dict3))\n",
    "\n",
    "def merge(dicts):\n",
    "    merged_dict={}\n",
    "    for d in dicts:\n",
    "        for key,values in d.items():\n",
    "            merged_dict[key]=values\n",
    "    return merged_dict\n",
    "dict1={\"a\":1,\"b\":2}\n",
    "dict2={\"c\":3,\"d\":4}\n",
    "dict3={\"e\":5,\"f\":6}\n",
    "dicts=[dict1,dict2,dict3]\n",
    "print(merge(dicts))"
   ]
  },
  {
   "cell_type": "code",
   "execution_count": 38,
   "id": "5c15cd2d",
   "metadata": {},
   "outputs": [
    {
     "name": "stdout",
     "output_type": "stream",
     "text": [
      "{'hello': 2, 'world': 2, 'hai': 1, 'mama': 1, 'bro': 1, 'is': 1, 'my': 1}\n"
     ]
    }
   ],
   "source": [
    "# Design a Python function named count_word_frequency to count the frequency of words in a sentence and store the counts in a dictionary.\n",
    "def count_word_frequency(sentence):\n",
    "    word_count={}\n",
    "    words=sentence.split()\n",
    "    for word in words:\n",
    "        if word in word_count:\n",
    "            word_count[word]+=1\n",
    "        else:\n",
    "            word_count[word]=1\n",
    "    return word_count\n",
    "sentence=\"hello world Hello hai mama bro is my world\"\n",
    "print(count_word_frequency(sentence.lower()))"
   ]
  },
  {
   "cell_type": "code",
   "execution_count": 55,
   "id": "0fa5d532",
   "metadata": {},
   "outputs": [
    {
     "name": "stdout",
     "output_type": "stream",
     "text": [
      "True\n"
     ]
    }
   ],
   "source": [
    "# Design a Python function named is_palindromic_tuple to check if a tuple is palindromic, meaning it reads the same forwards and backwards.\n",
    "def palindrome(tuple):\n",
    "    start=0\n",
    "    end=len(tuple)-1\n",
    "    for i in range(0,len(tuple)//2):\n",
    "        if tuple[start]==tuple[end]:\n",
    "            start+=1\n",
    "            end-=1\n",
    "        else:\n",
    "            return False\n",
    "    return True\n",
    "tuple=(1, 2, 3, 2, 1)\n",
    "print(palindrome(tuple))"
   ]
  },
  {
   "cell_type": "code",
   "execution_count": 75,
   "id": "c85a1758",
   "metadata": {},
   "outputs": [
    {
     "name": "stdout",
     "output_type": "stream",
     "text": [
      "{'a': 6, 'b': 10, 'c': 7, 'd': 7, 'k': 8}\n"
     ]
    }
   ],
   "source": [
    "# Design a Python function named merge_dicts_with_overlapping_keys that merges multiple dictionaries into a single dictionary.\n",
    "#  If a key appears in more than one dictionary, sum up their values.\n",
    "def merge_dicts_with_overlapping_keys(dicts):\n",
    "    merged_dict={}\n",
    "    for d in dicts:\n",
    "        for key,value in d.items():\n",
    "            if key in merged_dict:\n",
    "                merged_dict[key]+=value\n",
    "            else:\n",
    "                merged_dict[key]=value\n",
    "    return merged_dict\n",
    "dict1={\"a\":2,\"b\":3,\"c\":5}\n",
    "dict2={\"a\":4,\"b\":7,\"c\":2}\n",
    "dict3={\"d\":7,'k':8}\n",
    "dicts=[dict1,dict2,dict3]\n",
    "print(merge_dicts_with_overlapping_keys(dicts))\n"
   ]
  },
  {
   "cell_type": "code",
   "execution_count": null,
   "id": "43ceda1b",
   "metadata": {},
   "outputs": [],
   "source": []
  },
  {
   "cell_type": "code",
   "execution_count": null,
   "id": "5062207d",
   "metadata": {},
   "outputs": [],
   "source": []
  },
  {
   "cell_type": "code",
   "execution_count": null,
   "id": "7a7c7924",
   "metadata": {},
   "outputs": [],
   "source": []
  },
  {
   "cell_type": "code",
   "execution_count": null,
   "id": "33ec427e",
   "metadata": {},
   "outputs": [],
   "source": []
  },
  {
   "cell_type": "code",
   "execution_count": null,
   "id": "be8a6ad8",
   "metadata": {},
   "outputs": [],
   "source": []
  },
  {
   "cell_type": "code",
   "execution_count": null,
   "id": "be9172c7",
   "metadata": {},
   "outputs": [],
   "source": []
  },
  {
   "cell_type": "code",
   "execution_count": null,
   "id": "e5b673d4",
   "metadata": {},
   "outputs": [],
   "source": []
  },
  {
   "cell_type": "code",
   "execution_count": null,
   "id": "0101ff92",
   "metadata": {},
   "outputs": [],
   "source": []
  },
  {
   "cell_type": "code",
   "execution_count": null,
   "id": "ac6ab6a8",
   "metadata": {},
   "outputs": [],
   "source": []
  },
  {
   "cell_type": "code",
   "execution_count": null,
   "id": "981e8b03",
   "metadata": {},
   "outputs": [],
   "source": []
  },
  {
   "cell_type": "code",
   "execution_count": null,
   "id": "5df7ae5f",
   "metadata": {},
   "outputs": [],
   "source": []
  },
  {
   "cell_type": "code",
   "execution_count": null,
   "id": "0eeaaaa7",
   "metadata": {},
   "outputs": [],
   "source": []
  },
  {
   "cell_type": "code",
   "execution_count": null,
   "id": "b40bdabe",
   "metadata": {},
   "outputs": [],
   "source": []
  },
  {
   "cell_type": "code",
   "execution_count": null,
   "metadata": {},
   "outputs": [],
   "source": []
  }
 ],
 "metadata": {
  "kernelspec": {
   "display_name": "Python 3",
   "language": "python",
   "name": "python3"
  },
  "language_info": {
   "codemirror_mode": {
    "name": "ipython",
    "version": 3
   },
   "file_extension": ".py",
   "mimetype": "text/x-python",
   "name": "python",
   "nbconvert_exporter": "python",
   "pygments_lexer": "ipython3",
   "version": "3.11.9"
  }
 },
 "nbformat": 4,
 "nbformat_minor": 5
}
