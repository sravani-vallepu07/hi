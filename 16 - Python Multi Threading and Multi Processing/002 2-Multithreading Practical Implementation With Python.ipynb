{
 "cells": [
  {
   "cell_type": "code",
   "execution_count": 1,
   "metadata": {},
   "outputs": [],
   "source": [
    "import threading\n",
    "import time\n"
   ]
  },
  {
   "cell_type": "code",
   "execution_count": 2,
   "metadata": {},
   "outputs": [],
   "source": [
    "def print_number():\n",
    "    for i in range(5):\n",
    "        time.sleep(2)\n",
    "        print(f\"number:{i}\")"
   ]
  },
  {
   "cell_type": "code",
   "execution_count": 3,
   "metadata": {},
   "outputs": [],
   "source": [
    "def print_lettter():\n",
    "    for letter in \"abcde\":\n",
    "        time.sleep(0.2)\n",
    "        print(f\"letter:{letter}\")"
   ]
  },
  {
   "cell_type": "code",
   "execution_count": 4,
   "metadata": {},
   "outputs": [
    {
     "name": "stdout",
     "output_type": "stream",
     "text": [
      "number:0\n",
      "number:1\n",
      "number:2\n",
      "number:3\n",
      "number:4\n",
      "letter:a\n",
      "letter:b\n",
      "letter:c\n",
      "letter:d\n",
      "letter:e\n"
     ]
    }
   ],
   "source": [
    "print_number()\n",
    "print_lettter()"
   ]
  },
  {
   "cell_type": "code",
   "execution_count": 5,
   "metadata": {},
   "outputs": [
    {
     "name": "stdout",
     "output_type": "stream",
     "text": [
      "number:0\n",
      "number:1\n",
      "number:2\n",
      "number:3\n",
      "number:4\n",
      "letter:a\n",
      "letter:b\n",
      "letter:c\n",
      "letter:d\n",
      "letter:e\n",
      "11.013439893722534\n"
     ]
    }
   ],
   "source": [
    "t=time.time()\n",
    "print_number()\n",
    "print_lettter()\n",
    "finished_time=time.time()-t\n",
    "print(finished_time)"
   ]
  },
  {
   "cell_type": "code",
   "execution_count": null,
   "metadata": {},
   "outputs": [
    {
     "name": "stdout",
     "output_type": "stream",
     "text": [
      "0.002348184585571289\n"
     ]
    },
    {
     "name": "stdout",
     "output_type": "stream",
     "text": [
      "letter:a\n",
      "letter:b\n",
      "letter:c\n",
      "letter:d\n",
      "letter:e\n",
      "number:0\n",
      "number:1\n",
      "number:2\n",
      "number:3\n",
      "number:4\n"
     ]
    }
   ],
   "source": [
    "# create 2 threads\n",
    "t1=threading.Thread(target=print_number)\n",
    "t2=threading.Thread(target=print_lettter)\n",
    "t=time.time()\n",
    "# start the thread\n",
    "t1.start()\n",
    "t2.start()\n",
    "finished_time=time.time()-t\n",
    "print(finished_time)"
   ]
  },
  {
   "cell_type": "code",
   "execution_count": null,
   "metadata": {},
   "outputs": [
    {
     "name": "stdout",
     "output_type": "stream",
     "text": [
      "letter:a\n",
      "letter:b\n",
      "letter:c\n",
      "letter:d\n",
      "letter:e\n",
      "number:0\n",
      "number:1\n"
     ]
    }
   ],
   "source": [
    "# create 2 threads\n",
    "t1=threading.Thread(target=print_number)\n",
    "t2=threading.Thread(target=print_lettter)\n",
    "t=time.time()\n",
    "# start the thread\n",
    "t1.start()\n",
    "t2.start()\n",
    "t1.join()\n",
    "t2.join()\n",
    "finished_time=time.time()-t\n",
    "print(finished_time)"
   ]
  },
  {
   "cell_type": "code",
   "execution_count": null,
   "metadata": {},
   "outputs": [],
   "source": []
  },
  {
   "cell_type": "code",
   "execution_count": null,
   "metadata": {},
   "outputs": [],
   "source": []
  },
  {
   "cell_type": "code",
   "execution_count": null,
   "metadata": {},
   "outputs": [],
   "source": []
  },
  {
   "cell_type": "code",
   "execution_count": null,
   "metadata": {},
   "outputs": [],
   "source": []
  }
 ],
 "metadata": {
  "kernelspec": {
   "display_name": "Python 3",
   "language": "python",
   "name": "python3"
  },
  "language_info": {
   "codemirror_mode": {
    "name": "ipython",
    "version": 3
   },
   "file_extension": ".py",
   "mimetype": "text/x-python",
   "name": "python",
   "nbconvert_exporter": "python",
   "pygments_lexer": "ipython3",
   "version": "3.11.9"
  }
 },
 "nbformat": 4,
 "nbformat_minor": 2
}
